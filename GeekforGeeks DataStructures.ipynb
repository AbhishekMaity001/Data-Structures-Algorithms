{
 "cells": [
  {
   "cell_type": "code",
   "execution_count": 1,
   "metadata": {},
   "outputs": [],
   "source": [
    "import numpy as np\n",
    "import time"
   ]
  },
  {
   "cell_type": "markdown",
   "metadata": {},
   "source": [
    "## Counter function raw implementation in python"
   ]
  },
  {
   "cell_type": "code",
   "execution_count": 2,
   "metadata": {},
   "outputs": [
    {
     "name": "stdout",
     "output_type": "stream",
     "text": [
      "{'A': 1, 'b': 1, 'h': 2, 'i': 2, 's': 1, 'e': 1, 'k': 1, ' ': 1, 'M': 1, 'a': 1, 't': 1, 'y': 1}\n"
     ]
    }
   ],
   "source": [
    "inpt = 'Abhishek Maity'\n",
    "dic=dict()\n",
    "for i in inpt :\n",
    "    if i in dic:\n",
    "        dic[i] += 1\n",
    "    else:\n",
    "        dic[i] = 1\n",
    "        \n",
    "print(dic)\n",
    "    "
   ]
  },
  {
   "cell_type": "markdown",
   "metadata": {},
   "source": [
    "## SwapCase in python without using the inbuilt function"
   ]
  },
  {
   "cell_type": "code",
   "execution_count": 24,
   "metadata": {},
   "outputs": [
    {
     "name": "stdout",
     "output_type": "stream",
     "text": [
      "abhiSHEk mAity\n"
     ]
    }
   ],
   "source": [
    "def swapcase(sentence):\n",
    "    res = ''\n",
    "    for i in sentence:\n",
    "        if ord(i) in np.arange(65, 91):\n",
    "            res = res + chr(ord(i)+32)\n",
    "        elif ord(i) in np.arange(97, 123):\n",
    "            res = res + chr(ord(i)-32)\n",
    "            \n",
    "        else:\n",
    "            res = res + i\n",
    "            \n",
    "    return res\n",
    "            \n",
    "ans = swapcase('ABHIsheK MaITY')\n",
    "print(ans)\n",
    "    \n",
    "    \n",
    "    "
   ]
  },
  {
   "cell_type": "markdown",
   "metadata": {},
   "source": [
    "## Find the first duplicate no. in a list"
   ]
  },
  {
   "cell_type": "code",
   "execution_count": 27,
   "metadata": {},
   "outputs": [
    {
     "name": "stdout",
     "output_type": "stream",
     "text": [
      "First duplicate found !! 22\n"
     ]
    },
    {
     "data": {
      "text/plain": [
       "True"
      ]
     },
     "execution_count": 27,
     "metadata": {},
     "output_type": "execute_result"
    }
   ],
   "source": [
    "def firstduplicate(lst):\n",
    "    tmp = []\n",
    "    for i in range(len(lst)):\n",
    "        for j in range(len(lst)-1):\n",
    "            if lst[i] == lst[j+1]:\n",
    "                print('First duplicate found !! {}'.format(lst[i]))\n",
    "                return True\n",
    "            \n",
    "firstduplicate([22,33,22,3,4,1,2,3,4])\n",
    "        \n",
    "    \n",
    "    "
   ]
  },
  {
   "cell_type": "markdown",
   "metadata": {},
   "source": [
    "## Find all possible substrings of a given string"
   ]
  },
  {
   "cell_type": "code",
   "execution_count": 32,
   "metadata": {
    "scrolled": false
   },
   "outputs": [
    {
     "name": "stdout",
     "output_type": "stream",
     "text": [
      "a\n",
      "ab\n",
      "abh\n",
      "abhi\n",
      "abhis\n",
      "abhish\n",
      "abhishe\n",
      "abhishek\n",
      "b\n",
      "bh\n",
      "bhi\n",
      "bhis\n",
      "bhish\n",
      "bhishe\n",
      "bhishek\n",
      "h\n",
      "hi\n",
      "his\n",
      "hish\n",
      "hishe\n",
      "hishek\n",
      "i\n",
      "is\n",
      "ish\n",
      "ishe\n",
      "ishek\n",
      "s\n",
      "sh\n",
      "she\n",
      "shek\n",
      "h\n",
      "he\n",
      "hek\n",
      "e\n",
      "ek\n",
      "k\n"
     ]
    }
   ],
   "source": [
    "elements = \"abhishek\"\n",
    "temp = ''\n",
    "for i in range(len(elements)):\n",
    "    temp = ''\n",
    "    for j in range(i, len(elements)):\n",
    "        temp = temp + elements[j]\n",
    "        print(temp)"
   ]
  },
  {
   "cell_type": "markdown",
   "metadata": {},
   "source": [
    "## Find maximum length of 1's in a binary string"
   ]
  },
  {
   "cell_type": "code",
   "execution_count": 36,
   "metadata": {},
   "outputs": [
    {
     "name": "stdout",
     "output_type": "stream",
     "text": [
      "6\n"
     ]
    }
   ],
   "source": [
    "inpt = '110001111100011110111111'\n",
    "def findmax(inpt):\n",
    "    a = inpt.split('0')\n",
    "    print(len(max(a)))\n",
    "\n",
    "findmax(inpt)"
   ]
  },
  {
   "cell_type": "markdown",
   "metadata": {},
   "source": [
    "## Reversing a string without slicing "
   ]
  },
  {
   "cell_type": "code",
   "execution_count": 40,
   "metadata": {},
   "outputs": [
    {
     "name": "stdout",
     "output_type": "stream",
     "text": [
      "ihbA\n"
     ]
    }
   ],
   "source": [
    "inpt = 'Abhi'\n",
    "# inpt[::-1]\n",
    "\n",
    "tmp = ''\n",
    "for i in inpt:\n",
    "    tmp = i + tmp\n",
    "print(tmp)"
   ]
  },
  {
   "cell_type": "markdown",
   "metadata": {},
   "source": [
    "## Common characters in 2 string\n"
   ]
  },
  {
   "cell_type": "code",
   "execution_count": 45,
   "metadata": {},
   "outputs": [
    {
     "name": "stdout",
     "output_type": "stream",
     "text": [
      "dict_keys(['a', 'i', 'm', 't', 'y'])\n"
     ]
    }
   ],
   "source": [
    "str1 = 'abhishekmaity'\n",
    "str2 = 'riamaity'\n",
    "\n",
    "from collections import Counter\n",
    "\n",
    "dic1 = Counter(str1)\n",
    "dic2 = Counter(str2)\n",
    "\n",
    "res = dic1 & dic2\n",
    "print(res.keys())"
   ]
  },
  {
   "cell_type": "markdown",
   "metadata": {},
   "source": [
    "## Minimum character removal to make 2 strings anagram"
   ]
  },
  {
   "cell_type": "code",
   "execution_count": 57,
   "metadata": {},
   "outputs": [
    {
     "data": {
      "text/plain": [
       "3"
      ]
     },
     "execution_count": 57,
     "metadata": {},
     "output_type": "execute_result"
    }
   ],
   "source": [
    "str1 = 'Abhi'\n",
    "str2 = 'i'\n",
    "\n",
    "def minremoval(str1, str2):\n",
    "    str1 = str1.lower()\n",
    "    str2 = str2.lower()\n",
    "    \n",
    "    dic1 = Counter(str1)\n",
    "    dic2 = Counter(str2)\n",
    "    \n",
    "    dic3 = dic1 & dic2\n",
    "    \n",
    "    res = max(len(dic1.keys()), len(dic2.keys())) - len(dic1.keys() & dic2.keys())\n",
    "    return res\n",
    "\n",
    "minremoval(str1, str2)\n",
    "    "
   ]
  },
  {
   "cell_type": "markdown",
   "metadata": {},
   "source": [
    "## To remove all consecutive duplicates of a given string"
   ]
  },
  {
   "cell_type": "code",
   "execution_count": 70,
   "metadata": {
    "scrolled": false
   },
   "outputs": [
    {
     "name": "stdout",
     "output_type": "stream",
     "text": [
      "1 [1, 1]\n",
      "2 [2, 2]\n",
      "3 [3, 3, 3]\n",
      "4 [4, 4]\n",
      "5 [5]\n",
      "4 [4, 4]\n",
      "1 [1, 1, 1]\n",
      "4 [4]\n",
      "10 [10, 10]\n"
     ]
    },
    {
     "data": {
      "text/plain": [
       "[1, 2, 3, 4, 5, 4, 1, 4, 10]"
      ]
     },
     "execution_count": 70,
     "metadata": {},
     "output_type": "execute_result"
    }
   ],
   "source": [
    "st = [1,1,2,2,3,3,3,4,4,5,4,4,1,1,1,4,10,10]\n",
    "res = []\n",
    "\n",
    "import itertools\n",
    "for key, group in itertools.groupby(st) :\n",
    "    print(key, list(group))\n",
    "    res.append(key)\n",
    "\n",
    "res\n"
   ]
  },
  {
   "cell_type": "markdown",
   "metadata": {},
   "source": [
    "## Generate 2 output strings in python based on single and multiple occurrances"
   ]
  },
  {
   "cell_type": "code",
   "execution_count": 72,
   "metadata": {},
   "outputs": [
    {
     "data": {
      "text/plain": [
       "Counter({'g': 2, 'e': 4, 'k': 2, 's': 2, 'f': 1, 'o': 1, 'r': 1})"
      ]
     },
     "execution_count": 72,
     "metadata": {},
     "output_type": "execute_result"
    }
   ],
   "source": [
    "str1 = 'geeksForGeeks'\n",
    "Counter(str1.lower())"
   ]
  },
  {
   "cell_type": "code",
   "execution_count": 78,
   "metadata": {},
   "outputs": [
    {
     "name": "stdout",
     "output_type": "stream",
     "text": [
      "g 2\n",
      "e 4\n",
      "k 2\n",
      "s 2\n"
     ]
    }
   ],
   "source": [
    "for k, v in Counter(str1.lower()).items():\n",
    "    if v >=2:\n",
    "        print(k,v)"
   ]
  },
  {
   "cell_type": "markdown",
   "metadata": {},
   "source": [
    "## given a string and N ... now need to mirror the alphabets ..a to z , b to y etc.."
   ]
  },
  {
   "cell_type": "code",
   "execution_count": 80,
   "metadata": {
    "scrolled": false
   },
   "outputs": [
    {
     "data": {
      "text/plain": [
       "'zyxw'"
      ]
     },
     "execution_count": 80,
     "metadata": {},
     "output_type": "execute_result"
    }
   ],
   "source": [
    "st = 'abcd'\n",
    "st = st.lower()\n",
    "rev = 'zyxwvutsrqponmlkjihgfedcba'\n",
    "ans = ''\n",
    "for i in range(len(st)):\n",
    "    ans += rev[ord(st[i])-ord('a')]\n",
    "    \n",
    "ans"
   ]
  },
  {
   "cell_type": "code",
   "execution_count": 82,
   "metadata": {},
   "outputs": [
    {
     "data": {
      "text/plain": [
       "(97, 122)"
      ]
     },
     "execution_count": 82,
     "metadata": {},
     "output_type": "execute_result"
    }
   ],
   "source": [
    "ord('a') , ord('z')"
   ]
  },
  {
   "cell_type": "code",
   "execution_count": 88,
   "metadata": {},
   "outputs": [
    {
     "data": {
      "text/plain": [
       "(Counter({'a': 2,\n",
       "          'b': 1,\n",
       "          'h': 2,\n",
       "          'i': 2,\n",
       "          's': 1,\n",
       "          'e': 1,\n",
       "          'k': 1,\n",
       "          'm': 1,\n",
       "          't': 1,\n",
       "          'y': 1}),\n",
       " Counter({'r': 1, 'i': 2, 'a': 2, 'm': 1, 't': 1, 'y': 1}))"
      ]
     },
     "execution_count": 88,
     "metadata": {},
     "output_type": "execute_result"
    }
   ],
   "source": [
    "dic1, dic2"
   ]
  },
  {
   "cell_type": "code",
   "execution_count": 93,
   "metadata": {},
   "outputs": [
    {
     "data": {
      "text/plain": [
       "{1: 3, 2: 8, 3: 5}"
      ]
     },
     "execution_count": 93,
     "metadata": {},
     "output_type": "execute_result"
    }
   ],
   "source": [
    "dict(zip([1,2,3],[3,8,5]))"
   ]
  },
  {
   "cell_type": "markdown",
   "metadata": {},
   "source": [
    "## To change to a new character set using the zip function"
   ]
  },
  {
   "cell_type": "code",
   "execution_count": 56,
   "metadata": {},
   "outputs": [],
   "source": [
    "def newString(charset, inp):\n",
    "    original = 'abcdefghijhlmnopqrstuvwxyz'\n",
    "    mapchar = dict(zip(original, charset))\n",
    "    \n",
    "    newchar = [mapchar[i] for i in inp]\n",
    "    \n",
    "    print(''.join(newchar))"
   ]
  },
  {
   "cell_type": "markdown",
   "metadata": {},
   "source": [
    "## Printing the initials of the name with last name as Full"
   ]
  },
  {
   "cell_type": "code",
   "execution_count": 33,
   "metadata": {},
   "outputs": [
    {
     "data": {
      "text/plain": [
       "['Abhishek', 'Nath', 'Ram']"
      ]
     },
     "execution_count": 33,
     "metadata": {},
     "output_type": "execute_result"
    }
   ],
   "source": [
    "name = 'Abhishek Nath Ram Maity'\n",
    "tmp = name.split(' ')\n",
    "tmp[:len(tmp)-1]"
   ]
  },
  {
   "cell_type": "code",
   "execution_count": 34,
   "metadata": {},
   "outputs": [],
   "source": [
    "ans = ''\n",
    "for i in tmp[:len(tmp)-1] :\n",
    "    ans += i[0].upper() + '. '\n",
    "    \n",
    "ans += tmp[len(tmp)-1]\n",
    "    "
   ]
  },
  {
   "cell_type": "code",
   "execution_count": 35,
   "metadata": {},
   "outputs": [
    {
     "data": {
      "text/plain": [
       "'A. N. R. Maity'"
      ]
     },
     "execution_count": 35,
     "metadata": {},
     "output_type": "execute_result"
    }
   ],
   "source": [
    "ans"
   ]
  },
  {
   "cell_type": "markdown",
   "metadata": {},
   "source": [
    "## Remove duplicates in a given string"
   ]
  },
  {
   "cell_type": "code",
   "execution_count": 37,
   "metadata": {},
   "outputs": [
    {
     "data": {
      "text/plain": [
       "' sforGek'"
      ]
     },
     "execution_count": 37,
     "metadata": {},
     "output_type": "execute_result"
    }
   ],
   "source": [
    "a = 'Geeks for Geeks'\n",
    "ss = set(a)\n",
    "''.join(ss)"
   ]
  },
  {
   "cell_type": "code",
   "execution_count": 46,
   "metadata": {},
   "outputs": [
    {
     "data": {
      "text/plain": [
       "'Geksfor'"
      ]
     },
     "execution_count": 46,
     "metadata": {},
     "output_type": "execute_result"
    }
   ],
   "source": [
    "t = ''\n",
    "for i in a:\n",
    "    if i in t :\n",
    "        pass\n",
    "    else:\n",
    "        t += i\n",
    "''.join([i for i in t if i!=' '])   "
   ]
  },
  {
   "cell_type": "markdown",
   "metadata": {},
   "source": [
    "## Print the given matrix in spiral form"
   ]
  },
  {
   "cell_type": "code",
   "execution_count": 65,
   "metadata": {},
   "outputs": [
    {
     "data": {
      "text/plain": [
       "array([[ 0,  1,  2,  3],\n",
       "       [ 4,  5,  6,  7],\n",
       "       [ 8,  9, 10, 11],\n",
       "       [12, 13, 14, 15]])"
      ]
     },
     "execution_count": 65,
     "metadata": {},
     "output_type": "execute_result"
    }
   ],
   "source": [
    "arr = np.arange(16).reshape((4,4))\n",
    "arr"
   ]
  },
  {
   "cell_type": "code",
   "execution_count": 68,
   "metadata": {},
   "outputs": [
    {
     "name": "stdout",
     "output_type": "stream",
     "text": [
      "0 1 2 3 4 5 6 7 8 9 10 11 12 13 14 15 "
     ]
    }
   ],
   "source": [
    "for row in range(arr.shape[0]):\n",
    "    for col in range(arr.shape[1]):\n",
    "        print(arr[row][col], end=\" \")"
   ]
  },
  {
   "cell_type": "code",
   "execution_count": 73,
   "metadata": {},
   "outputs": [
    {
     "name": "stdout",
     "output_type": "stream",
     "text": [
      "0 1 2 3 "
     ]
    }
   ],
   "source": [
    "for i in range(arr.shape[1]):\n",
    "    print(arr[0][i], end=\" \")"
   ]
  },
  {
   "cell_type": "code",
   "execution_count": null,
   "metadata": {},
   "outputs": [],
   "source": []
  },
  {
   "cell_type": "code",
   "execution_count": null,
   "metadata": {},
   "outputs": [],
   "source": []
  },
  {
   "cell_type": "code",
   "execution_count": null,
   "metadata": {},
   "outputs": [],
   "source": []
  },
  {
   "cell_type": "code",
   "execution_count": null,
   "metadata": {},
   "outputs": [],
   "source": []
  },
  {
   "cell_type": "code",
   "execution_count": null,
   "metadata": {},
   "outputs": [],
   "source": []
  },
  {
   "cell_type": "code",
   "execution_count": null,
   "metadata": {},
   "outputs": [],
   "source": []
  }
 ],
 "metadata": {
  "kernelspec": {
   "display_name": "Python 3",
   "language": "python",
   "name": "python3"
  },
  "language_info": {
   "codemirror_mode": {
    "name": "ipython",
    "version": 3
   },
   "file_extension": ".py",
   "mimetype": "text/x-python",
   "name": "python",
   "nbconvert_exporter": "python",
   "pygments_lexer": "ipython3",
   "version": "3.7.9"
  }
 },
 "nbformat": 4,
 "nbformat_minor": 4
}
