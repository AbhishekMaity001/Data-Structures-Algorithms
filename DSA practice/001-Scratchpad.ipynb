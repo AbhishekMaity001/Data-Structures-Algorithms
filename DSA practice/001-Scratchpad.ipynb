{
 "cells": [
  {
   "cell_type": "code",
   "execution_count": 14,
   "metadata": {},
   "outputs": [
    {
     "name": "stdout",
     "output_type": "stream",
     "text": [
      "120\n"
     ]
    }
   ],
   "source": [
    "def fact(n):\n",
    "    if n == 1:\n",
    "        return n\n",
    "    if n<=0:\n",
    "        return 0\n",
    "    return n * fact(n-1)\n",
    "\n",
    "print(fact(5))"
   ]
  },
  {
   "cell_type": "code",
   "execution_count": 29,
   "metadata": {
    "scrolled": true
   },
   "outputs": [
    {
     "name": "stdout",
     "output_type": "stream",
     "text": [
      "0 1 1 2 3 5 8 13 21 34 "
     ]
    }
   ],
   "source": [
    "# 0 1 1 2 3 5 8 13 ....\n",
    "def fibonacci(n):\n",
    "    if n <= 1:\n",
    "        return n\n",
    "    return fibonacci(n-1) + fibonacci(n-2)\n",
    "\n",
    "for i in range(10):\n",
    "    print(fibonacci(i), end=\" \")"
   ]
  },
  {
   "cell_type": "code",
   "execution_count": 37,
   "metadata": {},
   "outputs": [
    {
     "data": {
      "text/plain": [
       "10.0"
      ]
     },
     "execution_count": 37,
     "metadata": {},
     "output_type": "execute_result"
    }
   ],
   "source": [
    "# n C r = n!/(n-r)! * r!\n",
    "def combination(n, r):\n",
    "    if n==r:\n",
    "        return 1\n",
    "    return fact(n)/(fact(n-r)*fact(r))\n",
    "\n",
    "combination(5, 2)"
   ]
  },
  {
   "cell_type": "code",
   "execution_count": 40,
   "metadata": {},
   "outputs": [
    {
     "name": "stdout",
     "output_type": "stream",
     "text": [
      "Move 1 disk  A  to  C\n",
      "Move 1 disk  A  to  B\n",
      "Move 1 disk  C  to  B\n",
      "Move 1 disk  A  to  C\n",
      "Move 1 disk  B  to  A\n",
      "Move 1 disk  B  to  C\n",
      "Move 1 disk  A  to  C\n",
      "Move 1 disk  A  to  B\n",
      "Move 1 disk  C  to  B\n",
      "Move 1 disk  C  to  A\n",
      "Move 1 disk  B  to  A\n",
      "Move 1 disk  C  to  B\n",
      "Move 1 disk  A  to  C\n",
      "Move 1 disk  A  to  B\n",
      "Move 1 disk  C  to  B\n",
      "Move 1 disk  A  to  C\n",
      "Move 1 disk  B  to  A\n",
      "Move 1 disk  B  to  C\n",
      "Move 1 disk  A  to  C\n",
      "Move 1 disk  B  to  A\n",
      "Move 1 disk  C  to  B\n",
      "Move 1 disk  C  to  A\n",
      "Move 1 disk  B  to  A\n",
      "Move 1 disk  B  to  C\n",
      "Move 1 disk  A  to  C\n",
      "Move 1 disk  A  to  B\n",
      "Move 1 disk  C  to  B\n",
      "Move 1 disk  A  to  C\n",
      "Move 1 disk  B  to  A\n",
      "Move 1 disk  B  to  C\n",
      "Move 1 disk  A  to  C\n"
     ]
    }
   ],
   "source": [
    "def tower_of_hanoi(n, from_bar, to_bar, aux_bar):\n",
    "    \"\"\"\n",
    "    n-1 from A to B using C\n",
    "    1 from A to C\n",
    "    n-1 from B to C using A\n",
    "    \"\"\"\n",
    "    if n == 1:\n",
    "        print(\"Move 1 disk \", from_bar, \" to \", to_bar)\n",
    "        return\n",
    "    tower_of_hanoi(n-1, from_bar, aux_bar, to_bar)\n",
    "    print(\"Move 1 disk \", from_bar, \" to \", to_bar)\n",
    "    tower_of_hanoi(n-1, aux_bar, to_bar, from_bar)\n",
    "\n",
    "\n",
    "tower_of_hanoi(5, \"A\", \"C\", \"B\")  "
   ]
  },
  {
   "cell_type": "code",
   "execution_count": null,
   "metadata": {},
   "outputs": [],
   "source": [
    "# Linked List (linear)\n",
    "\n",
    "class Node:\n",
    "    def __init__(self, data):\n",
    "        self.data = data\n",
    "        self.next = None\n",
    "        \n",
    "class Linky:\n",
    "    def __init__(self):\n",
    "        self.head = None\n",
    "        \n",
    "    def push(self, new_data):\n",
    "        new_node = Node(new_data)\n",
    "        new_node.next = self.head\n",
    "        self.head = new_node\n",
    "        \n",
    "    def insertAt(self, prev_node, new_data):\n",
    "        if prev_node is None:\n",
    "            print(\"The previous node is NONE!\")\n",
    "            return \n",
    "        new_node = Node(new_data)\n",
    "        temp = prev_node.next\n",
    "        prev_node.next = new_node\n",
    "        new_node.next = temp\n",
    "    \n",
    "    def append(self, new_data):\n",
    "        \n",
    "        new_node = Node(new_data)\n",
    "        if self.head is None:\n",
    "            self.head = new_node\n",
    "        \n",
    "        last_node = self.head\n",
    "        while last_node:\n",
    "            last_node = last_node.next\n",
    "        last_node.next = new_node\n",
    "            \n",
    "                \n",
    "                \n",
    "                \n",
    "                \n",
    "                \n",
    "        \n",
    "        \n",
    "        "
   ]
  },
  {
   "cell_type": "code",
   "execution_count": null,
   "metadata": {},
   "outputs": [],
   "source": []
  },
  {
   "cell_type": "code",
   "execution_count": null,
   "metadata": {},
   "outputs": [],
   "source": []
  },
  {
   "cell_type": "code",
   "execution_count": null,
   "metadata": {},
   "outputs": [],
   "source": []
  },
  {
   "cell_type": "code",
   "execution_count": null,
   "metadata": {},
   "outputs": [],
   "source": []
  },
  {
   "cell_type": "code",
   "execution_count": null,
   "metadata": {},
   "outputs": [],
   "source": []
  },
  {
   "cell_type": "code",
   "execution_count": null,
   "metadata": {},
   "outputs": [],
   "source": []
  },
  {
   "cell_type": "code",
   "execution_count": null,
   "metadata": {},
   "outputs": [],
   "source": []
  },
  {
   "cell_type": "code",
   "execution_count": null,
   "metadata": {},
   "outputs": [],
   "source": []
  },
  {
   "cell_type": "code",
   "execution_count": null,
   "metadata": {},
   "outputs": [],
   "source": []
  },
  {
   "cell_type": "code",
   "execution_count": null,
   "metadata": {},
   "outputs": [],
   "source": []
  },
  {
   "cell_type": "code",
   "execution_count": null,
   "metadata": {},
   "outputs": [],
   "source": []
  }
 ],
 "metadata": {
  "kernelspec": {
   "display_name": "Python 3",
   "language": "python",
   "name": "python3"
  },
  "language_info": {
   "codemirror_mode": {
    "name": "ipython",
    "version": 3
   },
   "file_extension": ".py",
   "mimetype": "text/x-python",
   "name": "python",
   "nbconvert_exporter": "python",
   "pygments_lexer": "ipython3",
   "version": "3.7.11"
  }
 },
 "nbformat": 4,
 "nbformat_minor": 4
}
