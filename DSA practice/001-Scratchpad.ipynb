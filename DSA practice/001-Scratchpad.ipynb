{
 "cells": [
  {
   "cell_type": "markdown",
   "metadata": {},
   "source": [
    "# basic/advance python"
   ]
  },
  {
   "cell_type": "markdown",
   "metadata": {},
   "source": [
    "### Lists\n",
    "- Ordered, mutable, allows duplicates"
   ]
  },
  {
   "cell_type": "code",
   "execution_count": 148,
   "metadata": {},
   "outputs": [
    {
     "name": "stdout",
     "output_type": "stream",
     "text": [
      "[0, 0, 0, 0, 0, 0, 0, 0, 0, 0]\n"
     ]
    }
   ],
   "source": [
    "# declaring the list\n",
    "mylist = [\"abhishek\", \"maity\", \"data\"]\n",
    "\n",
    "# Omitting the last element or you can index it also \n",
    "# Returns the last item & also removes it\n",
    "mylist.pop(1)\n",
    "\n",
    "# Returns None\n",
    "mylist.remove(\"data\")\n",
    "\n",
    "# Appending to the end of the list\n",
    "mylist.append('44')\n",
    "\n",
    "# Extend --> it will extend your list with the given items in the list\n",
    "mylist.extend(['a', 'b', 'c'])\n",
    "\n",
    "# Inserting at a certain position of the list\n",
    "mylist.insert(2, 'second_position_inserting')\n",
    "\n",
    "# Sorting --> Changes original list\n",
    "mylist.sort()\n",
    "\n",
    "# using sorted() returns a new list\n",
    "new_list = sorted(mylist)\n",
    "\n",
    "# counting\n",
    "new_list.count(0)\n",
    "\n",
    "mylist = [0]*10 # ==> will give [0,0,0,0,.....0] total 10 zeros\n",
    "\n",
    "# .copy()\n",
    "# always use copy() method when copying the list to a new variable\n",
    "\n",
    "# list comphrension\n",
    "a = [i*i for lst in mylist]\n",
    "\n",
    "\n",
    "\n",
    "print(mylist)"
   ]
  },
  {
   "cell_type": "markdown",
   "metadata": {},
   "source": [
    "### Tuple \n",
    "- Ordered, immutable, allows duplicate elements\n"
   ]
  },
  {
   "cell_type": "code",
   "execution_count": 174,
   "metadata": {},
   "outputs": [
    {
     "name": "stdout",
     "output_type": "stream",
     "text": [
      "5\n",
      "0\n",
      "list size ==>  104\n",
      "tuple size ==>  88\n",
      "0.00711030000820756\n",
      "0.0010919000196736306\n",
      "(1, 2, 3, 4, 5)\n",
      "[2, 3, 4]\n"
     ]
    }
   ],
   "source": [
    "# ROUND BRACKETS ARE OPTIONAL\n",
    "# mytuple = tuple([1,2,3,4,5])\n",
    "# mytuple = 1, 2, 3.09, 4\n",
    "# mytuple = (3,) # comma at the end is necessary if there is only one element\n",
    "mytuple = (1,2,3,4,5,)\n",
    "\n",
    "# indexing is possible in tuple\n",
    "print(mytuple[-1])\n",
    "\n",
    "# counting\n",
    "print(mytuple.count(100))\n",
    "\n",
    "# unpacking a tuple \n",
    "a, b, c, d, e = mytuple\n",
    "x, *y, z = mytuple  # y will hold everything except the 1st and the last element\n",
    "\n",
    "# TUPLE OCCUPIES VERY LESS SIZE AS COMPARED TO LIST & ITS MORE EFFECIENT TO ITERATE\n",
    "# WORKING WITH TUPLES ARE MORE EFFICIENT AS COMPARED TO LISTS\n",
    "import sys\n",
    "mylist = [1,2,3,4,5]\n",
    "mytuple = (1,2,3,4,5)\n",
    "print(\"list size ==> \", sys.getsizeof(mylist))\n",
    "print(\"tuple size ==> \", sys.getsizeof(mytuple))\n",
    "\n",
    "# TUPLE CREATION ALSO TAKES VERY LESS TIME\n",
    "import timeit\n",
    "print(timeit.timeit(stmt ='[0,1,2,3,4,5]', number=100000))\n",
    "print(timeit.timeit(stmt='(0,1,2,3,4,5)', number=100000))\n",
    "\n",
    "print(mytuple)\n",
    "print(y)"
   ]
  },
  {
   "cell_type": "markdown",
   "metadata": {},
   "source": [
    "### Dictionary\n",
    "\n",
    "- key-value pairs, Unordered, Mutable"
   ]
  },
  {
   "cell_type": "code",
   "execution_count": 214,
   "metadata": {
    "scrolled": true
   },
   "outputs": [
    {
     "name": "stdout",
     "output_type": "stream",
     "text": [
      "Max\n",
      "{(4, 6): 'aa'}\n"
     ]
    }
   ],
   "source": [
    "# IF YOU DECLARE USING dict() METHOD THEN DONT GIVE QUOTES IN THE KEYS & USE =\n",
    "mydict1 = {\"name\":\"Max\", \"age\":88, \"city\":\"london\"}\n",
    "mydict2 = dict(name=\"Max\", age=88, city=\"london\")\n",
    "\n",
    "# deleting a key-value\n",
    "del mydict1['age']\n",
    "# mydict1.popitem()  # Removes the last inserted item in dictionary\n",
    "# mydict.pop('age')  # Removes any mentioned key\n",
    "\n",
    "# numbers or a tuple can be used as a key in the dictionary BUT not a list!\n",
    "mytup = (4,6)\n",
    "mydict = {mytup: 'aa'}\n",
    "\n",
    "print(mydict1['name'])\n",
    "print(mydict)\n",
    "\n"
   ]
  },
  {
   "cell_type": "markdown",
   "metadata": {},
   "source": [
    "### Sets\n",
    "- Unordered, mutable, no duplicates"
   ]
  },
  {
   "cell_type": "code",
   "execution_count": 249,
   "metadata": {},
   "outputs": [
    {
     "name": "stdout",
     "output_type": "stream",
     "text": [
      "simple set {2, 3, 4, 5, 10, 111}\n",
      "union ==>  {1, 2, 3, 4, 5, 6, 7, 8, 9, 10}\n",
      "intersection ==>  set()\n",
      "difference ==>  {8, 10, 4, 6}\n",
      "symmetric difference ==> {3, 4, 5, 6, 7, 8, 10}\n",
      "False\n",
      "True\n",
      "Frozen set is just an immutable version of a normal Set ,Where you cannot add or delete anything!!\n"
     ]
    },
    {
     "data": {
      "text/plain": [
       "frozenset({1, 2, 3, 4})"
      ]
     },
     "execution_count": 249,
     "metadata": {},
     "output_type": "execute_result"
    }
   ],
   "source": [
    "myset = set(\"Hello\")\n",
    "myset = {1,2,3,3,3,4,4,5}\n",
    "\n",
    "# Adding items in the set\n",
    "myset.add(10)\n",
    "myset.add(11)\n",
    "myset.add(111)\n",
    "\n",
    "# Remove the number from the set\n",
    "myset.discard(11)\n",
    "myset.pop() # Removes an arbitary element\n",
    "# myset.clear() # will clear your set\n",
    "\n",
    "print(\"simple set\", myset)\n",
    "\n",
    "# Intersections & Unions in sets\n",
    "odds = {1, 3, 5, 7, 9}\n",
    "evens = {2, 4, 6, 8, 10}\n",
    "primes = {2, 3, 5, 7}\n",
    "\n",
    "print(\"union ==> \", odds.union(evens))\n",
    "print(\"intersection ==> \", odds.intersection(evens))\n",
    "print(\"difference ==> \", evens.difference(primes))  # set A elements which are not in set B\n",
    "print(\"symmetric difference ==>\", evens.symmetric_difference(primes))  # returns elements not in both sets (opposite of intersect)\n",
    "# print(\"symmetric update ==> \", odds.symmetric_difference_update(evens)) # just like intersection but updates the original Set A\n",
    "# print(\"differenct update ==> \", odds.difference_update(evens))\n",
    "print(odds.issuperset(evens))\n",
    "print(odds.isdisjoint(evens))  # If both sets are identical to each other then it will give True\n",
    "\n",
    "\n",
    "froz_set = frozenset([1,2,3,4])\n",
    "print(\"Frozen set is just an immutable version of a normal Set ,Where you cannot add or delete anything!!\")\n",
    "froz_set"
   ]
  },
  {
   "cell_type": "markdown",
   "metadata": {},
   "source": [
    "### Collections\n",
    "- Counter, namedtuple, OrderedDict, defaultdict, dequeue"
   ]
  },
  {
   "cell_type": "code",
   "execution_count": 262,
   "metadata": {},
   "outputs": [
    {
     "name": "stdout",
     "output_type": "stream",
     "text": [
      "Counter({'c': 6, 'a': 3, 'b': 3, 'd': 2})\n",
      "[('c', 6)]\n",
      "c\n",
      "['a', 'a', 'a', 'b', 'b', 'b', 'c', 'c', 'c', 'c', 'c', 'c', 'd', 'd']\n"
     ]
    }
   ],
   "source": [
    "from collections import Counter\n",
    "st = 'aaabbbccccccdd'\n",
    "result = Counter(st)\n",
    "print(result)\n",
    "print(result.most_common(1))\n",
    "print(result.most_common(1)[0][0])\n",
    "print(list(result.elements()))"
   ]
  },
  {
   "cell_type": "code",
   "execution_count": 268,
   "metadata": {},
   "outputs": [
    {
     "data": {
      "text/plain": [
       "(point(x=1, y=-4), 1, -4)"
      ]
     },
     "execution_count": 268,
     "metadata": {},
     "output_type": "execute_result"
    }
   ],
   "source": [
    "from collections import namedtuple\n",
    "point = namedtuple('point', 'x,y')\n",
    "pt = point(1,-4)\n",
    "pt, pt.x, pt.y"
   ]
  },
  {
   "cell_type": "code",
   "execution_count": 271,
   "metadata": {},
   "outputs": [
    {
     "name": "stdout",
     "output_type": "stream",
     "text": [
      "defaultdict(<class 'float'>, {'a': 1, 'c': 0.0})\n"
     ]
    }
   ],
   "source": [
    "from collections import defaultdict\n",
    "# similar to normal dictionary but only differenct is that it will have a default value of a key\n",
    "dd = defaultdict(float)\n",
    "dd['a'] = 1\n",
    "dd['c']\n",
    "print(dd) # Here it gave a default value as 0.0"
   ]
  },
  {
   "cell_type": "code",
   "execution_count": 280,
   "metadata": {},
   "outputs": [
    {
     "name": "stdout",
     "output_type": "stream",
     "text": [
      "deque([33, 55, 22, 1])\n",
      "deque([1, 33, 55, 22])\n"
     ]
    }
   ],
   "source": [
    "from collections import deque\n",
    "# Double ended Queue\n",
    "\n",
    "d = deque()\n",
    "d.append(1)\n",
    "d.appendleft(22)\n",
    "d.extendleft([55, 33])\n",
    "\n",
    "print(d)\n",
    "d.rotate(1)  # It will rotate the elements; if you give -ve number then it will rotate opposite side\n",
    "print(d)"
   ]
  },
  {
   "cell_type": "markdown",
   "metadata": {},
   "source": [
    "### itertools"
   ]
  },
  {
   "cell_type": "code",
   "execution_count": 289,
   "metadata": {},
   "outputs": [
    {
     "name": "stdout",
     "output_type": "stream",
     "text": [
      "[(1, 2, 3), (1, 3, 2), (2, 1, 3), (2, 3, 1), (3, 1, 2), (3, 2, 1)]\n",
      "[(1, 2), (1, 3), (2, 3)]\n",
      "[1, 2, 3]\n"
     ]
    }
   ],
   "source": [
    "from itertools import product, permutations, combinations, accumulate, count, cycle, repeat\n",
    "a = [1,2,3]\n",
    "perm = permutations(a)\n",
    "comb = combinations(a, 2)\n",
    "acc = accumulate(a, func=max) # func = operator.mul\n",
    "print(list(perm))\n",
    "print(list(comb))\n",
    "print(list(acc))"
   ]
  },
  {
   "cell_type": "code",
   "execution_count": 296,
   "metadata": {},
   "outputs": [
    {
     "name": "stdout",
     "output_type": "stream",
     "text": [
      "1\n",
      "1\n",
      "1\n",
      "1\n"
     ]
    }
   ],
   "source": [
    "# It will keep on cycling the list untill we make any break condition.\n",
    "# for i in cycle(a):\n",
    "#     print(i)\n",
    "\n",
    "# It will repeat 1 --> Four times\n",
    "for i in repeat(1, 4):\n",
    "    print(i)\n",
    "    "
   ]
  },
  {
   "cell_type": "markdown",
   "metadata": {},
   "source": [
    "## Exceptions"
   ]
  },
  {
   "cell_type": "code",
   "execution_count": null,
   "metadata": {},
   "outputs": [],
   "source": []
  },
  {
   "cell_type": "code",
   "execution_count": null,
   "metadata": {},
   "outputs": [],
   "source": []
  },
  {
   "cell_type": "code",
   "execution_count": null,
   "metadata": {},
   "outputs": [],
   "source": []
  },
  {
   "cell_type": "code",
   "execution_count": null,
   "metadata": {},
   "outputs": [],
   "source": []
  },
  {
   "cell_type": "markdown",
   "metadata": {},
   "source": [
    "## DS problems"
   ]
  },
  {
   "cell_type": "code",
   "execution_count": 14,
   "metadata": {},
   "outputs": [
    {
     "name": "stdout",
     "output_type": "stream",
     "text": [
      "120\n"
     ]
    }
   ],
   "source": [
    "def fact(n):\n",
    "    if n == 1:\n",
    "        return n\n",
    "    if n<=0:\n",
    "        return 0\n",
    "    return n * fact(n-1)\n",
    "\n",
    "print(fact(5))"
   ]
  },
  {
   "cell_type": "code",
   "execution_count": 29,
   "metadata": {
    "scrolled": true
   },
   "outputs": [
    {
     "name": "stdout",
     "output_type": "stream",
     "text": [
      "0 1 1 2 3 5 8 13 21 34 "
     ]
    }
   ],
   "source": [
    "# 0 1 1 2 3 5 8 13 ....\n",
    "def fibonacci(n):\n",
    "    if n <= 1:\n",
    "        return n\n",
    "    return fibonacci(n-1) + fibonacci(n-2)\n",
    "\n",
    "for i in range(10):\n",
    "    print(fibonacci(i), end=\" \")"
   ]
  },
  {
   "cell_type": "code",
   "execution_count": 37,
   "metadata": {},
   "outputs": [
    {
     "data": {
      "text/plain": [
       "10.0"
      ]
     },
     "execution_count": 37,
     "metadata": {},
     "output_type": "execute_result"
    }
   ],
   "source": [
    "# n C r = n!/(n-r)! * r!\n",
    "def combination(n, r):\n",
    "    if n==r:\n",
    "        return 1\n",
    "    return fact(n)/(fact(n-r)*fact(r))\n",
    "\n",
    "combination(5, 2)"
   ]
  },
  {
   "cell_type": "code",
   "execution_count": 40,
   "metadata": {
    "collapsed": true
   },
   "outputs": [
    {
     "name": "stdout",
     "output_type": "stream",
     "text": [
      "Move 1 disk  A  to  C\n",
      "Move 1 disk  A  to  B\n",
      "Move 1 disk  C  to  B\n",
      "Move 1 disk  A  to  C\n",
      "Move 1 disk  B  to  A\n",
      "Move 1 disk  B  to  C\n",
      "Move 1 disk  A  to  C\n",
      "Move 1 disk  A  to  B\n",
      "Move 1 disk  C  to  B\n",
      "Move 1 disk  C  to  A\n",
      "Move 1 disk  B  to  A\n",
      "Move 1 disk  C  to  B\n",
      "Move 1 disk  A  to  C\n",
      "Move 1 disk  A  to  B\n",
      "Move 1 disk  C  to  B\n",
      "Move 1 disk  A  to  C\n",
      "Move 1 disk  B  to  A\n",
      "Move 1 disk  B  to  C\n",
      "Move 1 disk  A  to  C\n",
      "Move 1 disk  B  to  A\n",
      "Move 1 disk  C  to  B\n",
      "Move 1 disk  C  to  A\n",
      "Move 1 disk  B  to  A\n",
      "Move 1 disk  B  to  C\n",
      "Move 1 disk  A  to  C\n",
      "Move 1 disk  A  to  B\n",
      "Move 1 disk  C  to  B\n",
      "Move 1 disk  A  to  C\n",
      "Move 1 disk  B  to  A\n",
      "Move 1 disk  B  to  C\n",
      "Move 1 disk  A  to  C\n"
     ]
    }
   ],
   "source": [
    "def tower_of_hanoi(n, from_bar, to_bar, aux_bar):\n",
    "    \"\"\"\n",
    "    n-1 from A to B using C\n",
    "    1 from A to C\n",
    "    n-1 from B to C using A\n",
    "    \"\"\"\n",
    "    if n == 1:\n",
    "        print(\"Move 1 disk \", from_bar, \" to \", to_bar)\n",
    "        return\n",
    "    tower_of_hanoi(n-1, from_bar, aux_bar, to_bar)\n",
    "    print(\"Move 1 disk \", from_bar, \" to \", to_bar)\n",
    "    tower_of_hanoi(n-1, aux_bar, to_bar, from_bar)\n",
    "\n",
    "\n",
    "tower_of_hanoi(5, \"A\", \"C\", \"B\")  "
   ]
  },
  {
   "cell_type": "code",
   "execution_count": null,
   "metadata": {},
   "outputs": [],
   "source": [
    "# Linked List (linear)\n",
    "\n",
    "class Node:\n",
    "    def __init__(self, data):\n",
    "        self.data = data\n",
    "        self.next = None\n",
    "        \n",
    "class Linky:\n",
    "    def __init__(self):\n",
    "        self.head = None\n",
    "        \n",
    "    def push(self, new_data):\n",
    "        new_node = Node(new_data)\n",
    "        new_node.next = self.head\n",
    "        self.head = new_node\n",
    "        \n",
    "    def insertAt(self, prev_node, new_data):\n",
    "        if prev_node is None:\n",
    "            print(\"The previous node is NONE!\")\n",
    "            return \n",
    "        new_node = Node(new_data)\n",
    "        temp = prev_node.next\n",
    "        prev_node.next = new_node\n",
    "        new_node.next = temp\n",
    "    \n",
    "    def append(self, new_data):\n",
    "        \n",
    "        new_node = Node(new_data)\n",
    "        if self.head is None:\n",
    "            self.head = new_node\n",
    "        \n",
    "        last_node = self.head\n",
    "        while last_node:\n",
    "            last_node = last_node.next\n",
    "        last_node.next = new_node\n",
    "            \n",
    "                \n",
    "                \n",
    "                \n",
    "                \n",
    "                \n",
    "        \n",
    "        \n",
    "        "
   ]
  },
  {
   "cell_type": "code",
   "execution_count": null,
   "metadata": {},
   "outputs": [],
   "source": []
  },
  {
   "cell_type": "code",
   "execution_count": null,
   "metadata": {},
   "outputs": [],
   "source": []
  },
  {
   "cell_type": "code",
   "execution_count": null,
   "metadata": {},
   "outputs": [],
   "source": []
  },
  {
   "cell_type": "code",
   "execution_count": null,
   "metadata": {},
   "outputs": [],
   "source": []
  },
  {
   "cell_type": "code",
   "execution_count": null,
   "metadata": {},
   "outputs": [],
   "source": []
  },
  {
   "cell_type": "code",
   "execution_count": null,
   "metadata": {},
   "outputs": [],
   "source": []
  },
  {
   "cell_type": "code",
   "execution_count": null,
   "metadata": {},
   "outputs": [],
   "source": []
  },
  {
   "cell_type": "code",
   "execution_count": null,
   "metadata": {},
   "outputs": [],
   "source": []
  },
  {
   "cell_type": "code",
   "execution_count": 227,
   "metadata": {},
   "outputs": [
    {
     "data": {
      "image/png": "[encoded data removed]",
      "text/plain": [
       "<Figure size 1080x288 with 1 Axes>"
      ]
     },
     "metadata": {
      "needs_background": "light"
     },
     "output_type": "display_data"
    }
   ],
   "source": [
    "# Just for fun\n",
    "import pandas as pd\n",
    "import matplotlib.pyplot as plt\n",
    "%matplotlib inline\n",
    "\n",
    "df = pd.DataFrame({'month' :['July 2021', 'Aug 2021', 'Sept 2021', 'Oct 2021', 'Nov 2021', 'Dec 2021', 'Jan 2022', 'Feb 2022', 'March 2022'], \n",
    "     'amount' :[5000, 3850, 4100, 3870, 4120, 4150, 4450, 4500, 4580]})\n",
    "df['interest'] = 5000-df['amount']\n",
    "df = df.set_index('month')\n",
    "df['interest'].plot(figsize=(15,4), color='r')\n",
    "plt.show()"
   ]
  },
  {
   "cell_type": "code",
   "execution_count": 228,
   "metadata": {},
   "outputs": [
    {
     "data": {
      "text/plain": [
       "<AxesSubplot:xlabel='month'>"
      ]
     },
     "execution_count": 228,
     "metadata": {},
     "output_type": "execute_result"
    },
    {
     "data": {
      "image/png": "[encoded data removed]",
      "text/plain": [
       "<Figure size 1080x288 with 1 Axes>"
      ]
     },
     "metadata": {
      "needs_background": "light"
     },
     "output_type": "display_data"
    }
   ],
   "source": [
    "(df['amount'].cumsum()).plot(figsize=(15,4), color='g')"
   ]
  },
  {
   "cell_type": "code",
   "execution_count": null,
   "metadata": {},
   "outputs": [],
   "source": []
  }
 ],
 "metadata": {
  "kernelspec": {
   "display_name": "Python 3",
   "language": "python",
   "name": "python3"
  },
  "language_info": {
   "codemirror_mode": {
    "name": "ipython",
    "version": 3
   },
   "file_extension": ".py",
   "mimetype": "text/x-python",
   "name": "python",
   "nbconvert_exporter": "python",
   "pygments_lexer": "ipython3",
   "version": "3.7.11"
  }
 },
 "nbformat": 4,
 "nbformat_minor": 4
}
